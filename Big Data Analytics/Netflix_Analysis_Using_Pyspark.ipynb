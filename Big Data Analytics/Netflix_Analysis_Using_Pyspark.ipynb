{
  "nbformat": 4,
  "nbformat_minor": 0,
  "metadata": {
    "colab": {
      "provenance": []
    },
    "kernelspec": {
      "name": "python3",
      "display_name": "Python 3"
    },
    "language_info": {
      "name": "python"
    }
  },
  "cells": [
    {
      "cell_type": "code",
      "execution_count": 1,
      "metadata": {
        "colab": {
          "base_uri": "https://localhost:8080/"
        },
        "id": "tdR6DgFmVdMB",
        "outputId": "da0238d2-0854-4766-b910-7a4de6e6ca42"
      },
      "outputs": [
        {
          "output_type": "stream",
          "name": "stdout",
          "text": [
            "Collecting pyspark\n",
            "  Downloading pyspark-3.5.0.tar.gz (316.9 MB)\n",
            "\u001b[2K     \u001b[90m━━━━━━━━━━━━━━━━━━━━━━━━━━━━━━━━━━━━━━━━\u001b[0m \u001b[32m316.9/316.9 MB\u001b[0m \u001b[31m3.9 MB/s\u001b[0m eta \u001b[36m0:00:00\u001b[0m\n",
            "\u001b[?25h  Preparing metadata (setup.py) ... \u001b[?25l\u001b[?25hdone\n",
            "Requirement already satisfied: py4j in /usr/local/lib/python3.10/dist-packages (0.10.9.7)\n",
            "Building wheels for collected packages: pyspark\n",
            "  Building wheel for pyspark (setup.py) ... \u001b[?25l\u001b[?25hdone\n",
            "  Created wheel for pyspark: filename=pyspark-3.5.0-py2.py3-none-any.whl size=317425345 sha256=57eaadd0a9d7441b3929840002432ad8e2b4debc96cc40a418c78e9c7ae3b4de\n",
            "  Stored in directory: /root/.cache/pip/wheels/41/4e/10/c2cf2467f71c678cfc8a6b9ac9241e5e44a01940da8fbb17fc\n",
            "Successfully built pyspark\n",
            "Installing collected packages: pyspark\n",
            "Successfully installed pyspark-3.5.0\n"
          ]
        }
      ],
      "source": [
        "!pip install pyspark py4j"
      ]
    },
    {
      "cell_type": "code",
      "source": [
        "from pyspark.sql import SparkSession\n",
        "import  pyspark.sql.functions as fn\n",
        "import seaborn as sns\n",
        "import matplotlib.pyplot as plt\n",
        "from pyspark.sql.types import DateType\n",
        "from pyspark.sql.functions import to_date\n",
        "from pyspark.sql.functions import col"
      ],
      "metadata": {
        "id": "4JN1OGdhVxnx"
      },
      "execution_count": 18,
      "outputs": []
    },
    {
      "cell_type": "code",
      "source": [
        "spark=SparkSession.builder.getOrCreate()"
      ],
      "metadata": {
        "id": "0f9GQY64Vhua"
      },
      "execution_count": 3,
      "outputs": []
    },
    {
      "cell_type": "code",
      "source": [
        "netflix_df = spark.read.csv(\"/content/Netflix.csv\", header=True, inferSchema=True)"
      ],
      "metadata": {
        "id": "fSabKHcaVS9g"
      },
      "execution_count": 4,
      "outputs": []
    },
    {
      "cell_type": "code",
      "source": [
        "netflix_df.write.parquet(\"/content/Netflix.parquet\")"
      ],
      "metadata": {
        "id": "duSUFIEGVy1z"
      },
      "execution_count": 5,
      "outputs": []
    },
    {
      "cell_type": "code",
      "source": [
        "netflix_df.printSchema()"
      ],
      "metadata": {
        "id": "UP7hlRB4WFlT",
        "colab": {
          "base_uri": "https://localhost:8080/"
        },
        "outputId": "6414f008-588c-4a9b-d541-82f9f5afe5c1"
      },
      "execution_count": 6,
      "outputs": [
        {
          "output_type": "stream",
          "name": "stdout",
          "text": [
            "root\n",
            " |-- User ID: integer (nullable = true)\n",
            " |-- Subscription Type: string (nullable = true)\n",
            " |-- Monthly Revenue: integer (nullable = true)\n",
            " |-- Join Date: string (nullable = true)\n",
            " |-- Last Payment Date: string (nullable = true)\n",
            " |-- Country: string (nullable = true)\n",
            " |-- Age: integer (nullable = true)\n",
            " |-- Gender: string (nullable = true)\n",
            " |-- Device: string (nullable = true)\n",
            " |-- Plan Duration: string (nullable = true)\n",
            "\n"
          ]
        }
      ]
    },
    {
      "cell_type": "code",
      "source": [
        "netflix_df.dtypes"
      ],
      "metadata": {
        "colab": {
          "base_uri": "https://localhost:8080/"
        },
        "id": "mKwO2wtEBB6c",
        "outputId": "7ada1f9d-1df3-4a2f-f5b9-bff857257ce6"
      },
      "execution_count": 7,
      "outputs": [
        {
          "output_type": "execute_result",
          "data": {
            "text/plain": [
              "[('User ID', 'int'),\n",
              " ('Subscription Type', 'string'),\n",
              " ('Monthly Revenue', 'int'),\n",
              " ('Join Date', 'string'),\n",
              " ('Last Payment Date', 'string'),\n",
              " ('Country', 'string'),\n",
              " ('Age', 'int'),\n",
              " ('Gender', 'string'),\n",
              " ('Device', 'string'),\n",
              " ('Plan Duration', 'string')]"
            ]
          },
          "metadata": {},
          "execution_count": 7
        }
      ]
    },
    {
      "cell_type": "code",
      "source": [
        "netflix_df.describe().select(\"summary\",\"Monthly Revenue\").show()"
      ],
      "metadata": {
        "colab": {
          "base_uri": "https://localhost:8080/"
        },
        "id": "EdeOJ4cuX_I2",
        "outputId": "81064e7c-879b-4f1a-99e9-6c093750a56b"
      },
      "execution_count": 8,
      "outputs": [
        {
          "output_type": "stream",
          "name": "stdout",
          "text": [
            "+-------+------------------+\n",
            "|summary|   Monthly Revenue|\n",
            "+-------+------------------+\n",
            "|  count|              2500|\n",
            "|   mean|           12.5084|\n",
            "| stddev|1.6868513944775387|\n",
            "|    min|                10|\n",
            "|    max|                15|\n",
            "+-------+------------------+\n",
            "\n"
          ]
        }
      ]
    },
    {
      "cell_type": "code",
      "source": [
        "# Convert 'Join Date' to datetime\n",
        "netflix_df = netflix_df.withColumn(\"Join Date\", to_date(col(\"Join Date\"), \"dd-MM-yy\").cast(DateType()))\n",
        "# Convert 'Last Payment Date' to datetime\n",
        "netflix_df = netflix_df.withColumn(\"Last Payment Date\", to_date(col(\"Last Payment Date\"), \"dd-MM-yy\").cast(DateType()))\n",
        "netflix_df.printSchema()"
      ],
      "metadata": {
        "colab": {
          "base_uri": "https://localhost:8080/"
        },
        "id": "XM-ODUHgiDvr",
        "outputId": "6ada76e1-64cd-452c-e433-991b05e1c9ae"
      },
      "execution_count": 19,
      "outputs": [
        {
          "output_type": "stream",
          "name": "stdout",
          "text": [
            "root\n",
            " |-- User ID: integer (nullable = true)\n",
            " |-- Subscription Type: string (nullable = true)\n",
            " |-- Monthly Revenue: integer (nullable = true)\n",
            " |-- Join Date: date (nullable = true)\n",
            " |-- Last Payment Date: date (nullable = true)\n",
            " |-- Country: string (nullable = true)\n",
            " |-- Age: integer (nullable = true)\n",
            " |-- Gender: string (nullable = true)\n",
            " |-- Device: string (nullable = true)\n",
            " |-- Plan Duration: string (nullable = true)\n",
            "\n"
          ]
        }
      ]
    },
    {
      "cell_type": "markdown",
      "source": [
        "#**A-** Five conclusions from the data, suported with appropriate graphs"
      ],
      "metadata": {
        "id": "Od8b5xQkcqfq"
      }
    },
    {
      "cell_type": "markdown",
      "source": [
        "##Distribution of subscription types"
      ],
      "metadata": {
        "id": "DiyeCrurdFRM"
      }
    },
    {
      "cell_type": "code",
      "source": [
        "subscription_counts= netflix_df.groupBy(\"Subscription Type\").count()\n",
        "subscription_counts.show()"
      ],
      "metadata": {
        "colab": {
          "base_uri": "https://localhost:8080/"
        },
        "id": "f1pbTSdiZwzV",
        "outputId": "f015c3f5-e15c-4de6-c5fd-d757b126e7ba"
      },
      "execution_count": 21,
      "outputs": [
        {
          "output_type": "stream",
          "name": "stdout",
          "text": [
            "+-----------------+-----+\n",
            "|Subscription Type|count|\n",
            "+-----------------+-----+\n",
            "|          Premium|  733|\n",
            "|            Basic|  999|\n",
            "|         Standard|  768|\n",
            "+-----------------+-----+\n",
            "\n"
          ]
        }
      ]
    },
    {
      "cell_type": "code",
      "source": [
        "proportions = subscription_counts.withColumn(\"Proportion\", fn.col(\"count\") / netflix_df.count())\n",
        "\n",
        "proportions_df = proportions.toPandas()\n",
        "\n",
        "plt.bar(proportions_df[\"Subscription Type\"], proportions_df[\"Proportion\"])\n",
        "plt.xlabel(\"Subscription Type\")\n",
        "plt.ylabel(\"Proportion of Users\")\n",
        "plt.title(\"Distribution of Subscription Types\")\n",
        "plt.show()"
      ],
      "metadata": {
        "colab": {
          "base_uri": "https://localhost:8080/",
          "height": 472
        },
        "id": "EV9CglwOdPxW",
        "outputId": "c356469b-b165-4f64-bc0c-9185b09893b5"
      },
      "execution_count": 20,
      "outputs": [
        {
          "output_type": "display_data",
          "data": {
            "text/plain": [
              "<Figure size 640x480 with 1 Axes>"
            ],
            "image/png": "[encoded data removed]"
          },
          "metadata": {}
        }
      ]
    },
    {
      "cell_type": "markdown",
      "source": [
        "Nearly 40% of users in this dataset have opted for the Basic plan, indicating a preference for lower-cost options."
      ],
      "metadata": {
        "id": "-iakdBBqm3cF"
      }
    },
    {
      "cell_type": "markdown",
      "source": [
        "##Revenue by country"
      ],
      "metadata": {
        "id": "ofzm8uyKfes-"
      }
    },
    {
      "cell_type": "code",
      "source": [
        "revenue_by_country = netflix_df.groupBy(\"Country\").agg(fn.sum(\"Monthly Revenue\").alias(\"Total Revenue\"))\n",
        "\n",
        "revenue_df = revenue_by_country.toPandas()\n",
        "revenue_df = revenue_df.sort_values(by=\"Total Revenue\", ascending=False)\n",
        "\n",
        "plt.bar(revenue_df[\"Country\"], revenue_df[\"Total Revenue\"])\n",
        "plt.xlabel(\"Country\")\n",
        "plt.ylabel(\"Total Revenue\")\n",
        "plt.title(\"Revenue by Country\")\n",
        "plt.xticks(rotation=90)\n",
        "plt.show()"
      ],
      "metadata": {
        "colab": {
          "base_uri": "https://localhost:8080/",
          "height": 569
        },
        "id": "5qF0PGD1fj75",
        "outputId": "df5d0a73-3d1a-488c-f8d7-913b07869c23"
      },
      "execution_count": 11,
      "outputs": [
        {
          "output_type": "display_data",
          "data": {
            "text/plain": [
              "<Figure size 640x480 with 1 Axes>"
            ],
            "image/png": "[encoded data removed]"
          },
          "metadata": {}
        }
      ]
    },
    {
      "cell_type": "markdown",
      "source": [
        "This shows that most users are from either the US or Spain. Additionally, the bar chart shows the most dominating countries and their counts."
      ],
      "metadata": {
        "id": "ikFjsz1mnNfC"
      }
    },
    {
      "cell_type": "markdown",
      "source": [
        "##Average revenue per user\n",
        "\n",
        "\n",
        "\n",
        "\n"
      ],
      "metadata": {
        "id": "3LjaU-PJqli2"
      }
    },
    {
      "cell_type": "code",
      "source": [
        "arpu_by_type = netflix_df.groupBy(\"Subscription Type\").agg(\n",
        "    fn.avg(\"Monthly Revenue\").alias(\"ARPU\"), fn.count(\"User ID\").alias(\"Num Users\")\n",
        ")\n",
        "\n",
        "# Calculate overall ARPU\n",
        "overall_arpu = netflix_df.agg(fn.avg(\"Monthly Revenue\")).collect()[0][0]\n",
        "\n",
        "# Table visualization\n",
        "print(\"Average revenue per user by Subscription Type:\")\n",
        "arpu_by_type.show()\n",
        "print(\"\\nOverall Average revenue per user:\", overall_arpu)"
      ],
      "metadata": {
        "colab": {
          "base_uri": "https://localhost:8080/"
        },
        "id": "3ZQKRgKzqpxe",
        "outputId": "e51c2278-8c99-49ca-80a7-2397760ca2bd"
      },
      "execution_count": 12,
      "outputs": [
        {
          "output_type": "stream",
          "name": "stdout",
          "text": [
            "Average revenue per user by Subscription Type:\n",
            "+-----------------+------------------+---------+\n",
            "|Subscription Type|              ARPU|Num Users|\n",
            "+-----------------+------------------+---------+\n",
            "|          Premium|12.590723055934516|      733|\n",
            "|            Basic|12.481481481481481|      999|\n",
            "|         Standard|       12.46484375|      768|\n",
            "+-----------------+------------------+---------+\n",
            "\n",
            "\n",
            "Overall Average revenue per user: 12.5084\n"
          ]
        }
      ]
    },
    {
      "cell_type": "markdown",
      "source": [
        "ARPU reveals significant differences in revenue generated by different subscription types. Premium users likely represent a higher value segment, contributing more revenue per month compared to Basic or Standard users. This highlights the importance of attracting and retaining Premium subscribers for increased profitability.\n",
        "\n"
      ],
      "metadata": {
        "id": "rUWOPZiOnqzA"
      }
    },
    {
      "cell_type": "markdown",
      "source": [
        "##Count users by age and gender\n"
      ],
      "metadata": {
        "id": "jAJn76KW9AyQ"
      }
    },
    {
      "cell_type": "code",
      "source": [
        "counts_by_age_gender = netflix_df.groupby([\"Age\",\"Gender\"]).count().orderBy(\"Age\")\n",
        "\n",
        "# Collect data as Pandas DataFrame for plotting\n",
        "counts_df = counts_by_age_gender.toPandas()\n",
        "\n",
        "counts_df = counts_df.pivot_table(values=\"count\", index=\"Age\", columns=\"Gender\")\n",
        "\n",
        "counts_df.plot(kind=\"bar\", color=[\"pink\", \"skyblue\"])\n",
        "plt.xlabel(\"Age\")\n",
        "plt.ylabel(\"Count\")\n",
        "plt.title(\"User Count by Age and Gender\")\n",
        "plt.legend(title=\"Gender\")\n",
        "plt.xticks(rotation=0)\n",
        "plt.show()"
      ],
      "metadata": {
        "colab": {
          "base_uri": "https://localhost:8080/",
          "height": 472
        },
        "id": "qroNk0ZEtj0M",
        "outputId": "68f7782e-7851-4478-e60e-efeb56e78ebf"
      },
      "execution_count": 13,
      "outputs": [
        {
          "output_type": "display_data",
          "data": {
            "text/plain": [
              "<Figure size 640x480 with 1 Axes>"
            ],
            "image/png": "[encoded data removed]"
          },
          "metadata": {}
        }
      ]
    },
    {
      "cell_type": "markdown",
      "source": [
        "The graph clearly shows a skewed distribution towards younger age groups, with higher concentrations in their late teens and early twenties. This aligns with trends in digital media consumption and suggests a focus on attracting and retaining younger audiences.\n",
        "\n",
        "While the overall user base seems balanced, there appears to be a slight gender disparity, with slightly more male users across most age groups. This disparity could be due to various factors like marketing strategies, content preferences, or cultural norms surrounding digital media consumption."
      ],
      "metadata": {
        "id": "YpR8gUTRoFXA"
      }
    },
    {
      "cell_type": "markdown",
      "source": [
        "##Average monthly revenue per device type"
      ],
      "metadata": {
        "id": "TB9a93wwruv5"
      }
    },
    {
      "cell_type": "code",
      "source": [
        "revenue_per_device = netflix_df.groupBy(\"Device\").agg(fn.avg(\"Monthly Revenue\").alias(\"Average Revenue\"))\n",
        "revenue_per_device.show()\n"
      ],
      "metadata": {
        "colab": {
          "base_uri": "https://localhost:8080/"
        },
        "id": "qvB0JCv1PFAH",
        "outputId": "5f8f65fe-7aa3-42cc-ea24-270ea474bb99"
      },
      "execution_count": 14,
      "outputs": [
        {
          "output_type": "stream",
          "name": "stdout",
          "text": [
            "+----------+------------------+\n",
            "|    Device|   Average Revenue|\n",
            "+----------+------------------+\n",
            "|    Laptop|12.569182389937106|\n",
            "|    Tablet|12.592417061611375|\n",
            "|  Smart TV| 12.48360655737705|\n",
            "|Smartphone| 12.38486312399356|\n",
            "+----------+------------------+\n",
            "\n"
          ]
        }
      ]
    },
    {
      "cell_type": "markdown",
      "source": [
        " Laptops and tablets generate slightly higher average revenue compared to Smart TVs and smartphones, suggesting that these devices might be associated with longer viewing sessions, more content consumption, or potentially higher-tier subscription choices."
      ],
      "metadata": {
        "id": "esshxPglogPI"
      }
    },
    {
      "cell_type": "markdown",
      "source": [
        "#**B-** State what is the most appropriate solution for processing the data and mention the problem."
      ],
      "metadata": {
        "id": "eacOwQcCjR2D"
      }
    },
    {
      "cell_type": "markdown",
      "source": [
        "**Key Considerations:**\n",
        "\n",
        "*  **Data Size**: Large dataset (exceeding available RAM) necessitates distributed processing with PySpark.\n",
        "\n",
        "* **Analysis Complexity:** Simple aggregations and visualizations can often be handled with Pandas or SQL. However, complex transformations, machine learning, or handling large datasets favor PySpark.\n",
        "\n",
        "* **Performance Requirements:** PySpark excels in parallel processing and handling large datasets efficiently.\n",
        "\n",
        "* **Skillset and Resources**: Assess your team's familiarity with PySpark and available infrastructure for distributed processing.\n",
        "\n",
        "\n",
        "**Recommendations:**\n",
        "\n",
        "* **Large dataset, complex analysis, and performance demands:** PySpark is highly suitable.\n",
        "* **Smaller dataset, simpler analysis:** Pandas or SQL might suffice, potentially offering faster development and less overhead."
      ],
      "metadata": {
        "id": "xtzKESiEjoWw"
      }
    },
    {
      "cell_type": "markdown",
      "source": [
        "#**C-** Mention whether there is any tool, function, or graphs that you used for the first time, what you used it for, how satisfied you were with it, and whether it was effective, or will you try to find an alternative to it?"
      ],
      "metadata": {
        "id": "vZWccu79kbJf"
      }
    },
    {
      "cell_type": "markdown",
      "source": [
        "**pivot_table():**\n",
        "\n",
        "**Purpose:** Reshapes data for easier analysis, creating a pivot table with aggregated values.\n",
        "\n",
        "**How I used it**:\n",
        "To visualize user counts across age groups and genders.\n",
        "\n",
        "\n",
        "---\n",
        "\n",
        "\n",
        "**agg():**\n",
        "\n",
        "**Purpose:** Performs aggregations on grouped data, like sums, averages, counts, etc.\n",
        "\n",
        "**How I used it:**\n",
        "* To calculate total revenue per country (fn.sum(\"Monthly Revenue\")).\n",
        "* To compute average revenue per user (fn.avg(\"Monthly Revenue\"))."
      ],
      "metadata": {
        "id": "MSPyUpVcklFq"
      }
    },
    {
      "cell_type": "markdown",
      "source": [
        "#**D-** What is the most appropriate programming language for this project and was pyspark the best solution and why?"
      ],
      "metadata": {
        "id": "nhjZB1G2ktWh"
      }
    },
    {
      "cell_type": "markdown",
      "source": [
        "**PySpark's Advantages:**\n",
        "\n",
        "* Handles large datasets efficiently with distributed processing.\n",
        "\n",
        "*   Offers a Pythonic interface, leveraging Python's readability and libraries.\n",
        "*   Integrates with SQL for data querying and manipulation.\n",
        "* Supports diverse analysis techniques (aggregations, visualizations, machine learning).\n",
        "\n",
        "**Alternatives for Smaller Datasets or Simpler Analyses:**\n",
        "\n",
        "\n",
        "*   Pandas: Excels in data manipulation and analysis on a single machine.\n",
        "*   SQL: Effective for querying and filtering structured data.\n",
        "\n",
        "**Key Factors for Language Choice:**\n",
        "\n",
        "* Dataset size and complexity.\n",
        "* Analysis requirements.\n",
        "* Team skillset and preferences.\n",
        "* Available resources and infrastructure."
      ],
      "metadata": {
        "id": "AyVpDOZrkyfa"
      }
    }
  ]
}