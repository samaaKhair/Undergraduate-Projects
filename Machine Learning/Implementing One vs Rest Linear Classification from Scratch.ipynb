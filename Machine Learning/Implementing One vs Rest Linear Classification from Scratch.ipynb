{
  "nbformat": 4,
  "nbformat_minor": 0,
  "metadata": {
    "colab": {
      "provenance": []
    },
    "kernelspec": {
      "name": "python3",
      "display_name": "Python 3"
    },
    "language_info": {
      "name": "python"
    }
  },
  "cells": [
    {
      "cell_type": "code",
      "execution_count": null,
      "metadata": {
        "id": "SRWQpGk-uz0C"
      },
      "outputs": [],
      "source": [
        "import numpy as np\n",
        "import pandas as pd\n",
        "from sklearn.model_selection import train_test_split\n",
        "from sklearn import datasets\n",
        "import matplotlib.pyplot as plt\n",
        "\n"
      ]
    },
    {
      "cell_type": "markdown",
      "source": [
        "##Load IRIS datasets"
      ],
      "metadata": {
        "id": "r1w3m9t1u4vn"
      }
    },
    {
      "cell_type": "code",
      "source": [
        "%matplotlib inline\n",
        "iris = pd.read_csv('/content/Iris.csv')\n",
        "iris_copy=iris\n",
        "iris_copy.insert(0,\"Ones\",np.ones((len(iris_copy),1),dtype=int),True)\n"
      ],
      "metadata": {
        "id": "Bf9MHeqwu6CJ"
      },
      "execution_count": null,
      "outputs": []
    },
    {
      "cell_type": "code",
      "source": [
        "type(iris)\n"
      ],
      "metadata": {
        "colab": {
          "base_uri": "https://localhost:8080/"
        },
        "id": "8scr30yHJXuZ",
        "outputId": "c863ae63-2e3b-476b-e4d4-550b13feb94d"
      },
      "execution_count": null,
      "outputs": [
        {
          "output_type": "execute_result",
          "data": {
            "text/plain": [
              "pandas.core.frame.DataFrame"
            ]
          },
          "metadata": {},
          "execution_count": 101
        }
      ]
    },
    {
      "cell_type": "markdown",
      "source": [
        "## Linear Classification\n"
      ],
      "metadata": {
        "id": "SWOiatvPu48L"
      }
    },
    {
      "cell_type": "markdown",
      "source": [
        "### Split dataset\n",
        "training--> 40\n",
        "\n",
        "testing-->10\n"
      ],
      "metadata": {
        "id": "wkXfIyZ-zfJh"
      }
    },
    {
      "cell_type": "code",
      "source": [
        "setosa= iris_copy.loc[iris_copy['Species'] == 'Iris-setosa']\n",
        "versicolor= iris_copy.loc[iris_copy['Species'] == 'Iris-versicolor']\n",
        "virginica= iris_copy.loc[iris_copy['Species'] == 'Iris-virginica']\n",
        "\n",
        "train_setosa,test_setosa=train_test_split(setosa, test_size=10)\n",
        "train_versicolor,test_versicolor=train_test_split(versicolor, test_size=10)\n",
        "train_virginica,test_virginica=train_test_split(virginica, test_size=10)\n",
        "\n",
        "train_setosa = train_setosa.drop(['Species', 'Id'], axis=1)\n",
        "test_setosa= test_setosa.drop(['Species', 'Id'], axis=1)\n",
        "\n",
        "train_versicolor = train_versicolor.drop(['Species', 'Id'], axis=1)\n",
        "test_versicolor= test_versicolor.drop(['Species', 'Id'], axis=1)\n",
        "\n",
        "train_virginica = train_virginica.drop(['Species', 'Id'], axis=1)\n",
        "test_virginica = test_virginica.drop(['Species','Id'], axis=1)\n"
      ],
      "metadata": {
        "id": "gZ5bqMkUzX-C"
      },
      "execution_count": null,
      "outputs": []
    },
    {
      "cell_type": "markdown",
      "source": [
        "### Make Z for all feature\n"
      ],
      "metadata": {
        "id": "1RkXu6Ekwx8t"
      }
    },
    {
      "cell_type": "code",
      "source": [
        "Z1=np.concatenate((train_setosa,-1*train_versicolor,-1*train_virginica),axis=0)\n",
        "Z2=np.concatenate((-1*train_setosa,train_versicolor,-1*train_virginica),axis=0)\n",
        "Z3=np.concatenate((-1*train_setosa,-1*train_versicolor,train_virginica),axis=0)"
      ],
      "metadata": {
        "id": "NrksLAysu62v"
      },
      "execution_count": null,
      "outputs": []
    },
    {
      "cell_type": "markdown",
      "source": [
        "###Calculate w\n",
        "## w=(Z^T * Z)^-1 * Z^T * b\n"
      ],
      "metadata": {
        "id": "fP6rNvRju4_h"
      }
    },
    {
      "cell_type": "code",
      "source": [
        "b=np.ones((len(Z1),1),dtype=int)\n"
      ],
      "metadata": {
        "id": "xFxovkGtu7wE"
      },
      "execution_count": null,
      "outputs": []
    },
    {
      "cell_type": "markdown",
      "source": [
        "### One Vs All\n",
        "Build 3 model\n"
      ],
      "metadata": {
        "id": "lpkG8sYLu5Gp"
      }
    },
    {
      "cell_type": "markdown",
      "source": [
        "##w1, w2 , w3\n",
        "\n"
      ],
      "metadata": {
        "id": "vNzyMcU1z-PR"
      }
    },
    {
      "cell_type": "code",
      "source": [
        "w1 = np.dot(np.dot(np.linalg.inv(np.dot(Z1.transpose(), Z1)), Z1.transpose()), b)\n",
        "w2 = np.dot(np.dot(np.linalg.inv(np.dot(Z2.transpose(), Z2)), Z2.transpose()), b)\n",
        "w3 = np.dot(np.dot(np.linalg.inv(np.dot(Z3.transpose(), Z3)), Z3.transpose()), b)"
      ],
      "metadata": {
        "id": "-wY5ELSKu8O0"
      },
      "execution_count": null,
      "outputs": []
    },
    {
      "cell_type": "markdown",
      "source": [
        "Evaluation\n",
        "\n",
        "Class #1\n",
        "if w1^T * x  > 0\n",
        "and w2^T * x < 0\n",
        "and w3^T * x < 0\n",
        "\n",
        "Class #2\n",
        "if w1^T * x  < 0\n",
        "and w2^T * x > 0\n",
        "and w3^T * x < 0\n",
        "\n",
        "Class #3\n",
        "if w1^T * x  < 0\n",
        "and w2^T * x < 0\n",
        "and w3^T * x > 0\n",
        "\n",
        "Undefine Class\n",
        "if\n",
        " w1^T * x    > 0 and w2^T * x > 0 and w3^T * x < 0\n",
        "\n",
        "OR\n",
        "\n",
        "w1^T * x    < 0 and w2^T * x > 0 and w3^T * x > 0\n",
        "\n",
        "OR\n",
        "\n",
        "w1^T * x    > 0 and w2^T * x < 0 and w3^T * x > 0\n"
      ],
      "metadata": {
        "id": "T6xEtKAN0FPZ"
      }
    },
    {
      "cell_type": "code",
      "source": [
        "Test= np.concatenate((test_setosa,test_versicolor,test_virginica),axis=0)\n",
        "\n",
        "for i in range(len(Test)):\n",
        "\n",
        "  if np.dot(w1.transpose(),Test[i])>0 and np.dot(w2.transpose(),Test[i])<0 and np.dot(w3.transpose(),Test[i])<0:\n",
        "    print('case #1')\n",
        "  elif np.dot(w1.transpose(),Test[i])<0 and np.dot(w2.transpose(),Test[i])>0 and np.dot(w3.transpose(),Test[i])<0:\n",
        "    print('case #2')\n",
        "  elif np.dot(w1.transpose(),Test[i])<0 and np.dot(w2.transpose(),Test[i])>0 and np.dot(w3.transpose(),Test[i])>0:\n",
        "    print('case #3')\n",
        "  else:\n",
        "    print('Undefined Class')\n"
      ],
      "metadata": {
        "id": "yv7wTUbQ1C1Q",
        "colab": {
          "base_uri": "https://localhost:8080/"
        },
        "outputId": "5e0147b0-ad22-4e23-c50e-226489cee3db"
      },
      "execution_count": null,
      "outputs": [
        {
          "output_type": "stream",
          "name": "stdout",
          "text": [
            "case #1\n",
            "case #1\n",
            "case #1\n",
            "case #1\n",
            "case #1\n",
            "case #1\n",
            "case #1\n",
            "case #1\n",
            "case #1\n",
            "case #1\n",
            "case #2\n",
            "case #2\n",
            "case #2\n",
            "Undefined Class\n",
            "Undefined Class\n",
            "Undefined Class\n",
            "Undefined Class\n",
            "Undefined Class\n",
            "Undefined Class\n",
            "Undefined Class\n",
            "Undefined Class\n",
            "Undefined Class\n",
            "case #3\n",
            "Undefined Class\n",
            "Undefined Class\n",
            "Undefined Class\n",
            "Undefined Class\n",
            "Undefined Class\n",
            "case #2\n",
            "case #3\n"
          ]
        }
      ]
    }
  ]
}