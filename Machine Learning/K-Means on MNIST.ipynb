{
  "nbformat": 4,
  "nbformat_minor": 0,
  "metadata": {
    "colab": {
      "provenance": []
    },
    "kernelspec": {
      "name": "python3",
      "display_name": "Python 3"
    },
    "language_info": {
      "name": "python"
    }
  },
  "cells": [
    {
      "cell_type": "code",
      "execution_count": 45,
      "metadata": {
        "colab": {
          "base_uri": "https://localhost:8080/",
          "height": 426
        },
        "id": "_pMcw9oLhfoM",
        "outputId": "9238bcec-7b7a-425a-b153-c47ee153178e"
      },
      "outputs": [
        {
          "output_type": "stream",
          "name": "stderr",
          "text": [
            "<ipython-input-45-f2e738a06c11>:35: RuntimeWarning: Mean of empty slice.\n",
            "  tempcent = x[points==idx].mean(axis=0)\n",
            "/usr/local/lib/python3.8/dist-packages/numpy/core/_methods.py:181: RuntimeWarning: invalid value encountered in true_divide\n",
            "  ret = um.true_divide(\n"
          ]
        },
        {
          "output_type": "error",
          "ename": "IndexError",
          "evalue": "ignored",
          "traceback": [
            "\u001b[0;31m---------------------------------------------------------------------------\u001b[0m",
            "\u001b[0;31mIndexError\u001b[0m                                Traceback (most recent call last)",
            "\u001b[0;32m<ipython-input-45-f2e738a06c11>\u001b[0m in \u001b[0;36m<module>\u001b[0;34m\u001b[0m\n\u001b[1;32m     47\u001b[0m \u001b[0;31m#applying our function\u001b[0m\u001b[0;34m\u001b[0m\u001b[0;34m\u001b[0m\u001b[0;34m\u001b[0m\u001b[0m\n\u001b[1;32m     48\u001b[0m \u001b[0;34m\u001b[0m\u001b[0m\n\u001b[0;32m---> 49\u001b[0;31m \u001b[0mlabel\u001b[0m \u001b[0;34m=\u001b[0m \u001b[0mkmeans\u001b[0m\u001b[0;34m(\u001b[0m\u001b[0mX_test\u001b[0m\u001b[0;34m,\u001b[0m\u001b[0;36m10\u001b[0m\u001b[0;34m,\u001b[0m\u001b[0;36m1000\u001b[0m\u001b[0;34m)\u001b[0m\u001b[0;34m\u001b[0m\u001b[0;34m\u001b[0m\u001b[0m\n\u001b[0m\u001b[1;32m     50\u001b[0m \u001b[0;34m\u001b[0m\u001b[0m\n\u001b[1;32m     51\u001b[0m \u001b[0;34m\u001b[0m\u001b[0m\n",
            "\u001b[0;32m<ipython-input-45-f2e738a06c11>\u001b[0m in \u001b[0;36mkmeans\u001b[0;34m(x, k, noofiterations)\u001b[0m\n\u001b[1;32m     33\u001b[0m   \u001b[0;32mfor\u001b[0m \u001b[0midx\u001b[0m \u001b[0;32min\u001b[0m \u001b[0mrange\u001b[0m\u001b[0;34m(\u001b[0m\u001b[0mk\u001b[0m\u001b[0;34m)\u001b[0m\u001b[0;34m:\u001b[0m\u001b[0;34m\u001b[0m\u001b[0;34m\u001b[0m\u001b[0m\n\u001b[1;32m     34\u001b[0m    \u001b[0;31m#Updating Centroids by taking mean of Cluster it belongs to\u001b[0m\u001b[0;34m\u001b[0m\u001b[0;34m\u001b[0m\u001b[0;34m\u001b[0m\u001b[0m\n\u001b[0;32m---> 35\u001b[0;31m    \u001b[0mtempcent\u001b[0m \u001b[0;34m=\u001b[0m \u001b[0mx\u001b[0m\u001b[0;34m[\u001b[0m\u001b[0mpoints\u001b[0m\u001b[0;34m==\u001b[0m\u001b[0midx\u001b[0m\u001b[0;34m]\u001b[0m\u001b[0;34m.\u001b[0m\u001b[0mmean\u001b[0m\u001b[0;34m(\u001b[0m\u001b[0maxis\u001b[0m\u001b[0;34m=\u001b[0m\u001b[0;36m0\u001b[0m\u001b[0;34m)\u001b[0m\u001b[0;34m\u001b[0m\u001b[0;34m\u001b[0m\u001b[0m\n\u001b[0m\u001b[1;32m     36\u001b[0m    \u001b[0mcentroids\u001b[0m\u001b[0;34m.\u001b[0m\u001b[0mappend\u001b[0m\u001b[0;34m(\u001b[0m\u001b[0mtempcent\u001b[0m\u001b[0;34m)\u001b[0m\u001b[0;34m\u001b[0m\u001b[0;34m\u001b[0m\u001b[0m\n\u001b[1;32m     37\u001b[0m \u001b[0;34m\u001b[0m\u001b[0m\n",
            "\u001b[0;31mIndexError\u001b[0m: boolean index did not match indexed array along dimension 1; dimension is 784 but corresponding boolean dimension is 1"
          ]
        }
      ],
      "source": [
        "import numpy as np\n",
        "from scipy.spatial.distance import cdist\n",
        "#from sklearn.datasets import fetch_mldata\n",
        "from keras.datasets import mnist\n",
        "from keras.utils import np_utils\n",
        "import matplotlib.pyplot as plt\n",
        "\n",
        "\n",
        "#loading MNIST dataset\n",
        "(X_train, Y_train), (X_test, Y_test) = mnist.load_data()\n",
        "\n",
        "X_train = X_train.reshape(X_train.shape[0], 28*28) \n",
        "X_test = X_test.reshape(X_test.shape[0], 28*28) \n",
        "\n",
        "def kmeans(x,k, noofiterations):\n",
        "\n",
        " idx = np.random.choice(len(x), k, replace=False) #Randomly choosing Centroids\n",
        "\n",
        " centroids = x[idx, :] #Step 1\n",
        "\n",
        " #finding the distance between centroids and all the data points\n",
        "\n",
        " distances = cdist(x, centroids ,'euclidean') #Step 2\n",
        "\n",
        " #Centroid with the minimum Distance\n",
        "\n",
        " points = [np.argmin(i) for i in distances] #Step 3\n",
        "\n",
        " #Repeating the above steps for a defined number of iterations #Step 4\n",
        "\n",
        " for _ in range(noofiterations):\n",
        "  centroids =[]\n",
        "  for idx in range(k):\n",
        "   #Updating Centroids by taking mean of Cluster it belongs to\n",
        "   tempcent = x[points==idx].mean(axis=0)\n",
        "   centroids.append(tempcent)\n",
        "\n",
        "   centroids = np.vstack(centroids) #Updated Centroids\n",
        "\n",
        "   distances = cdist(x, centroids ,'euclidean')\n",
        "\n",
        "   points = np.vstack([np.argmin(i) for i in distances])\n",
        "\n",
        "  return points\n",
        "\n",
        "\n",
        "#applying our function\n",
        "\n",
        "label = kmeans(X_test,10,1000)\n",
        "\n",
        "\n",
        "#visualizing the result\n",
        "\n",
        "ulabels = np.unique(label)\n",
        "for i in ulabels:\n",
        " plt.scatter(mnist.data[label == i , 0] , mnist.data[label == i , 1] , label = i)\n",
        "plt.legend()\n",
        "plt.show()"
      ]
    }
  ]
}