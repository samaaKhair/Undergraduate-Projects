{
  "nbformat": 4,
  "nbformat_minor": 0,
  "metadata": {
    "colab": {
      "provenance": [],
      "collapsed_sections": [
        "zRXzGUAwzO57"
      ]
    },
    "kernelspec": {
      "name": "python3",
      "display_name": "Python 3"
    },
    "language_info": {
      "name": "python"
    },
    "accelerator": "GPU",
    "gpuClass": "standard"
  },
  "cells": [
    {
      "cell_type": "markdown",
      "source": [
        "**Assignment#1**\n",
        "\n",
        "\n",
        "Using **fashion_mnist** dataset\n",
        "\n",
        "Design three different CNN neural networks with start with 64, 128, or 265 filters (In First Layer) (6 Marks)\n",
        "\n",
        "Reach Accuracy greater than 96% at least in one model(2 Marks)\n",
        "\n",
        "Compare accuracy, loss, and execution time in (CPU vs collab GPU) (Only in one model) (2 Marks)\n",
        "\n",
        "***Bonus:*** Test your model on the CIFAR10 dataset, State the difference between 2D and 3D Model {Model input, output , layers, hyper parameters}(2 Marks)\n"
      ],
      "metadata": {
        "id": "Tdf8w4gs9ni5"
      }
    },
    {
      "cell_type": "code",
      "source": [
        "import pandas as pd\n",
        "import numpy as np\n",
        "from sklearn.preprocessing import StandardScaler\n",
        "from sklearn.model_selection import train_test_split\n",
        "from keras.utils import np_utils\n",
        "\n",
        "import os\n",
        "from keras.datasets import fashion_mnist\n",
        "from keras.datasets import cifar10\n",
        "from keras.utils import to_categorical\n",
        "from keras.models import Sequential ,load_model , save_model\n",
        "from keras.layers.core import Dense, Dropout, Activation, Flatten\n",
        "from keras.optimizers import adam_v2 ,Adam\n",
        "from keras.utils import np_utils\n",
        "from keras.datasets import mnist\n",
        "from keras.layers import Conv2D, MaxPooling2D\n",
        "from keras.losses import sparse_categorical_crossentropy\n",
        "\n",
        "import matplotlib.pyplot as plt"
      ],
      "metadata": {
        "id": "Uf80RSHkjNd7"
      },
      "execution_count": null,
      "outputs": []
    },
    {
      "cell_type": "markdown",
      "source": [
        "#Fashion MNIST Dataset\n",
        "\n",
        "\n",
        "Each training and test example is assigned to one of the following labels:\n",
        "\n",
        "0: T-shirt/top\n",
        "1: Trouser\n",
        "2: Pullover\n",
        "3: Dress\n",
        "4: Coat\n",
        "5: Sandal\n",
        "6: Shirt\n",
        "7: Sneaker\n",
        "8: Bag\n",
        "9: Ankle boot\n",
        "\n",
        "\n",
        "\n",
        "\n",
        "Each row is a separate image\n",
        "Column 1 is the class label.\n",
        "Remaining columns are pixel numbers (784 total).\n",
        "Each value is the darkness of the pixel (1 to 255)"
      ],
      "metadata": {
        "id": "ReQ2UEfhg73J"
      }
    },
    {
      "cell_type": "markdown",
      "source": [
        "##Pre-processing"
      ],
      "metadata": {
        "id": "nuc0bcrFhmvm"
      }
    },
    {
      "cell_type": "code",
      "source": [
        "# Split dataset into training and test sets\n",
        "(X_train, y_train), (X_test, y_test) = fashion_mnist.load_data()\n",
        "\n",
        "img_width, img_height = 28, 28\n",
        "no_classes = 10\n",
        "\n",
        "input_train = X_train.reshape(X_train.shape[0], img_width, img_height, 1)\n",
        "\n",
        "input_test = X_test.reshape(X_test.shape[0], img_width, img_height, 1)\n",
        "input_shape = (img_width, img_height, 1)\n",
        "\n",
        "# Cast numbers to float32\n",
        "input_train = input_train.astype('float32')\n",
        "input_test = input_test.astype('float32')\n",
        "\n",
        "print(input_train.shape[0],input_train.shape,input_test.shape)"
      ],
      "metadata": {
        "id": "BH-wecOI9rMY",
        "colab": {
          "base_uri": "https://localhost:8080/"
        },
        "outputId": "d7581ba3-f752-4d74-e48b-533ede2a897b"
      },
      "execution_count": null,
      "outputs": [
        {
          "output_type": "stream",
          "name": "stdout",
          "text": [
            "60000 (60000, 28, 28, 1) (10000, 28, 28, 1)\n"
          ]
        }
      ]
    },
    {
      "cell_type": "code",
      "source": [
        "target_train_cat = to_categorical(y_train)\n",
        "target_test_cat = to_categorical(y_test)\n"
      ],
      "metadata": {
        "id": "H2SZjKcpxgPh"
      },
      "execution_count": null,
      "outputs": []
    },
    {
      "cell_type": "markdown",
      "source": [
        "#CNN Models"
      ],
      "metadata": {
        "id": "DOHoTVUjjG8P"
      }
    },
    {
      "cell_type": "markdown",
      "source": [
        "##Model Configuration"
      ],
      "metadata": {
        "id": "g7BgO4qd-CSQ"
      }
    },
    {
      "cell_type": "code",
      "source": [
        "batch_size = 6000\n",
        "no_epochs = 10\n",
        "validation_split = 0.2\n",
        "verbosity = 1"
      ],
      "metadata": {
        "id": "8H4-Q29790rG"
      },
      "execution_count": null,
      "outputs": []
    },
    {
      "cell_type": "markdown",
      "source": [
        "##First CNN Design with 32 filters"
      ],
      "metadata": {
        "id": "3NXI_sYe6tS5"
      }
    },
    {
      "cell_type": "code",
      "source": [
        "model32=Sequential()\n",
        "\n",
        "model32.add(Conv2D(64, (3, 3), activation='relu', input_shape=(28, 28, 1)))\n",
        "model32.add(MaxPooling2D())\n",
        "model32.add(Flatten())\n",
        "model32.add(Dense(128, activation='relu'))\n",
        "model32.add(Dense(10, activation='softmax'))\n",
        "model32.summary()"
      ],
      "metadata": {
        "colab": {
          "base_uri": "https://localhost:8080/"
        },
        "id": "i2Dzy2nm6uC3",
        "outputId": "7f1d5b64-bfae-44e1-e201-724ff7795e89"
      },
      "execution_count": null,
      "outputs": [
        {
          "output_type": "stream",
          "name": "stdout",
          "text": [
            "Model: \"sequential_1\"\n",
            "_________________________________________________________________\n",
            " Layer (type)                Output Shape              Param #   \n",
            "=================================================================\n",
            " conv2d_1 (Conv2D)           (None, 26, 26, 64)        640       \n",
            "                                                                 \n",
            " max_pooling2d_1 (MaxPooling  (None, 13, 13, 64)       0         \n",
            " 2D)                                                             \n",
            "                                                                 \n",
            " flatten_1 (Flatten)         (None, 10816)             0         \n",
            "                                                                 \n",
            " dense_2 (Dense)             (None, 128)               1384576   \n",
            "                                                                 \n",
            " dense_3 (Dense)             (None, 10)                1290      \n",
            "                                                                 \n",
            "=================================================================\n",
            "Total params: 1,386,506\n",
            "Trainable params: 1,386,506\n",
            "Non-trainable params: 0\n",
            "_________________________________________________________________\n"
          ]
        }
      ]
    },
    {
      "cell_type": "code",
      "source": [
        "#optimizer\n",
        "model32.compile(loss=sparse_categorical_crossentropy,\n",
        "              optimizer=Adam(),\n",
        "              metrics=['accuracy'])"
      ],
      "metadata": {
        "id": "AsYKgJUI7DHE"
      },
      "execution_count": null,
      "outputs": []
    },
    {
      "cell_type": "markdown",
      "source": [
        "##Second CNN Design with 64 filters"
      ],
      "metadata": {
        "id": "jQk73NFPvdbi"
      }
    },
    {
      "cell_type": "code",
      "source": [
        "model64=Sequential()\n",
        "\n",
        "model64.add(Conv2D(64, (3, 3), activation='relu', input_shape=(28, 28, 1)))\n",
        "model64.add(MaxPooling2D())\n",
        "model64.add(Flatten())\n",
        "model64.add(Dense(128, activation='relu'))\n",
        "model64.add(Dense(10, activation='softmax'))\n",
        "model64.summary()"
      ],
      "metadata": {
        "colab": {
          "base_uri": "https://localhost:8080/"
        },
        "id": "xxnE629_69qt",
        "outputId": "3cce8e7a-932f-4369-f5e1-3fbe627a6dbb"
      },
      "execution_count": null,
      "outputs": [
        {
          "output_type": "stream",
          "name": "stdout",
          "text": [
            "Model: \"sequential_1\"\n",
            "_________________________________________________________________\n",
            " Layer (type)                Output Shape              Param #   \n",
            "=================================================================\n",
            " conv2d_1 (Conv2D)           (None, 26, 26, 64)        640       \n",
            "                                                                 \n",
            " max_pooling2d_1 (MaxPooling  (None, 13, 13, 64)       0         \n",
            " 2D)                                                             \n",
            "                                                                 \n",
            " flatten_1 (Flatten)         (None, 10816)             0         \n",
            "                                                                 \n",
            " dense_2 (Dense)             (None, 128)               1384576   \n",
            "                                                                 \n",
            " dense_3 (Dense)             (None, 10)                1290      \n",
            "                                                                 \n",
            "=================================================================\n",
            "Total params: 1,386,506\n",
            "Trainable params: 1,386,506\n",
            "Non-trainable params: 0\n",
            "_________________________________________________________________\n"
          ]
        }
      ]
    },
    {
      "cell_type": "code",
      "source": [
        "#optimizer\n",
        "model64.compile(loss=sparse_categorical_crossentropy,\n",
        "              optimizer=Adam(),\n",
        "              metrics=['accuracy'])"
      ],
      "metadata": {
        "id": "FIti1PTv4e-q"
      },
      "execution_count": null,
      "outputs": []
    },
    {
      "cell_type": "markdown",
      "source": [
        "##Third CNN Design with 128 filters"
      ],
      "metadata": {
        "id": "YRUxzgKox2dZ"
      }
    },
    {
      "cell_type": "code",
      "source": [
        "model128=Sequential()\n",
        "\n",
        "model128.add(Conv2D(128, kernel_size=(3, 3), activation='relu', input_shape=(28, 28, 1),strides=(1, 1),padding=\"valid\"))\n",
        "model128.add(MaxPooling2D())\n",
        "model128.add(Flatten())\n",
        "model128.add(Dense(128, activation='relu'))\n",
        "model128.add(Dense(10, activation='softmax'))\n",
        "\n",
        "model128.summary()"
      ],
      "metadata": {
        "colab": {
          "base_uri": "https://localhost:8080/"
        },
        "id": "h067aaLNyGxx",
        "outputId": "6bed45ae-b62d-4ac9-818b-b94188bc1ded"
      },
      "execution_count": null,
      "outputs": [
        {
          "output_type": "stream",
          "name": "stdout",
          "text": [
            "Model: \"sequential_5\"\n",
            "_________________________________________________________________\n",
            " Layer (type)                Output Shape              Param #   \n",
            "=================================================================\n",
            " conv2d_5 (Conv2D)           (None, 26, 26, 128)       1280      \n",
            "                                                                 \n",
            " max_pooling2d_5 (MaxPooling  (None, 13, 13, 128)      0         \n",
            " 2D)                                                             \n",
            "                                                                 \n",
            " flatten_5 (Flatten)         (None, 21632)             0         \n",
            "                                                                 \n",
            " dense_10 (Dense)            (None, 128)               2769024   \n",
            "                                                                 \n",
            " dense_11 (Dense)            (None, 10)                1290      \n",
            "                                                                 \n",
            "=================================================================\n",
            "Total params: 2,771,594\n",
            "Trainable params: 2,771,594\n",
            "Non-trainable params: 0\n",
            "_________________________________________________________________\n"
          ]
        }
      ]
    },
    {
      "cell_type": "code",
      "source": [
        "#optimizer\n",
        "model128.compile(loss=sparse_categorical_crossentropy,\n",
        "              optimizer=Adam(),\n",
        "              metrics=['accuracy'])"
      ],
      "metadata": {
        "id": "BbnwVcHu4aZ0"
      },
      "execution_count": null,
      "outputs": []
    },
    {
      "cell_type": "markdown",
      "source": [
        "##Fourth CNN Design with 265 filters\n",
        "It took too much time to run on PC and crashed on colab:("
      ],
      "metadata": {
        "id": "zRXzGUAwzO57"
      }
    },
    {
      "cell_type": "code",
      "source": [
        "model265=Sequential()\n",
        "\n",
        "model265.add(Conv2D(265, kernel_size=(3, 3), activation='relu', input_shape=input_shape,strides=(1, 1),padding=\"valid\"))\n",
        "model265.add(MaxPooling2D(pool_size=(2, 2)))\n",
        "model265.add(Dropout(0.25))\n",
        "model265.add(Conv2D(128, kernel_size=(3, 3), activation='relu'))\n",
        "model265.add(MaxPooling2D(pool_size=(2, 2)))\n",
        "model265.add(Dropout(0.25))\n",
        "model265.add(Conv2D(128, kernel_size=(3, 3), activation='relu'))\n",
        "model265.add(MaxPooling2D(pool_size=(2, 2)))\n",
        "model265.add(Dropout(0.25))\n",
        "model265.add(Flatten())\n",
        "model265.add(Dense(1080, activation='relu'))\n",
        "model265.add(Dense(no_classes, activation='softmax'))\n",
        "\n",
        "model265.summary()"
      ],
      "metadata": {
        "colab": {
          "base_uri": "https://localhost:8080/"
        },
        "id": "L8pXVyNHzXf1",
        "outputId": "6358bbac-c8fa-4203-a5ae-0d800b5b8768"
      },
      "execution_count": null,
      "outputs": [
        {
          "output_type": "stream",
          "name": "stdout",
          "text": [
            "Model: \"sequential\"\n",
            "_________________________________________________________________\n",
            " Layer (type)                Output Shape              Param #   \n",
            "=================================================================\n",
            " conv2d (Conv2D)             (None, 26, 26, 265)       2650      \n",
            "                                                                 \n",
            " max_pooling2d (MaxPooling2D  (None, 13, 13, 265)      0         \n",
            " )                                                               \n",
            "                                                                 \n",
            " dropout (Dropout)           (None, 13, 13, 265)       0         \n",
            "                                                                 \n",
            " conv2d_1 (Conv2D)           (None, 11, 11, 128)       305408    \n",
            "                                                                 \n",
            " max_pooling2d_1 (MaxPooling  (None, 5, 5, 128)        0         \n",
            " 2D)                                                             \n",
            "                                                                 \n",
            " dropout_1 (Dropout)         (None, 5, 5, 128)         0         \n",
            "                                                                 \n",
            " conv2d_2 (Conv2D)           (None, 3, 3, 128)         147584    \n",
            "                                                                 \n",
            " max_pooling2d_2 (MaxPooling  (None, 1, 1, 128)        0         \n",
            " 2D)                                                             \n",
            "                                                                 \n",
            " dropout_2 (Dropout)         (None, 1, 1, 128)         0         \n",
            "                                                                 \n",
            " flatten (Flatten)           (None, 128)               0         \n",
            "                                                                 \n",
            " dense (Dense)               (None, 1080)              139320    \n",
            "                                                                 \n",
            " dense_1 (Dense)             (None, 10)                10810     \n",
            "                                                                 \n",
            "=================================================================\n",
            "Total params: 605,772\n",
            "Trainable params: 605,772\n",
            "Non-trainable params: 0\n",
            "_________________________________________________________________\n"
          ]
        }
      ]
    },
    {
      "cell_type": "code",
      "source": [
        "#Optimizer\n",
        "model265.compile(loss=sparse_categorical_crossentropy,\n",
        "              optimizer=Adam(),\n",
        "              metrics=['accuracy'])"
      ],
      "metadata": {
        "id": "jcWm2N-g4H2h"
      },
      "execution_count": null,
      "outputs": []
    },
    {
      "cell_type": "markdown",
      "source": [
        "#Fitting Models"
      ],
      "metadata": {
        "id": "vvms83YW4p6T"
      }
    },
    {
      "cell_type": "markdown",
      "source": [
        "##Fitting Model with 32 Filters"
      ],
      "metadata": {
        "id": "RZVHw7no7JsM"
      }
    },
    {
      "cell_type": "markdown",
      "source": [
        "###Running using colab GPU"
      ],
      "metadata": {
        "id": "EHqgosfeKJEq"
      }
    },
    {
      "cell_type": "code",
      "source": [
        "# Fit data to model\n",
        "history32=model32.fit(input_train, y_train,\n",
        "          batch_size=batch_size,\n",
        "          epochs=no_epochs,\n",
        "          verbose=verbosity,\n",
        "          validation_split=validation_split)\n",
        "\n",
        "# Generate generalization metrics\n",
        "score = model32.evaluate(input_test, y_test, verbose=0)\n",
        "print(f'Test loss: {score[0]} / Test accuracy: {score[1]}')\n",
        "\n",
        "# # Save the model\n",
        "filepath = './saved_model'\n",
        "save_model(model32, filepath)\n",
        "\n",
        "# Load the model\n",
        "model32 = load_model(filepath, compile = True)"
      ],
      "metadata": {
        "colab": {
          "base_uri": "https://localhost:8080/"
        },
        "id": "xvga6c6w7KAa",
        "outputId": "4f4f95d0-6d15-464b-8432-18be607ded27"
      },
      "execution_count": null,
      "outputs": [
        {
          "output_type": "stream",
          "name": "stdout",
          "text": [
            "Epoch 1/10\n",
            "8/8 [==============================] - 10s 139ms/step - loss: 85.8402 - accuracy: 0.2656 - val_loss: 30.7039 - val_accuracy: 0.4827\n",
            "Epoch 2/10\n",
            "8/8 [==============================] - 1s 93ms/step - loss: 18.8625 - accuracy: 0.5371 - val_loss: 7.7415 - val_accuracy: 0.7068\n",
            "Epoch 3/10\n",
            "8/8 [==============================] - 1s 93ms/step - loss: 6.8451 - accuracy: 0.6875 - val_loss: 5.7609 - val_accuracy: 0.6957\n",
            "Epoch 4/10\n",
            "8/8 [==============================] - 1s 92ms/step - loss: 4.3859 - accuracy: 0.7420 - val_loss: 3.2002 - val_accuracy: 0.7567\n",
            "Epoch 5/10\n",
            "8/8 [==============================] - 1s 92ms/step - loss: 2.9375 - accuracy: 0.7690 - val_loss: 2.4025 - val_accuracy: 0.7763\n",
            "Epoch 6/10\n",
            "8/8 [==============================] - 1s 92ms/step - loss: 2.0640 - accuracy: 0.7917 - val_loss: 1.6411 - val_accuracy: 0.8026\n",
            "Epoch 7/10\n",
            "8/8 [==============================] - 1s 105ms/step - loss: 1.5015 - accuracy: 0.8073 - val_loss: 1.3592 - val_accuracy: 0.8030\n",
            "Epoch 8/10\n",
            "8/8 [==============================] - 1s 105ms/step - loss: 1.2092 - accuracy: 0.8131 - val_loss: 1.0774 - val_accuracy: 0.8165\n",
            "Epoch 9/10\n",
            "8/8 [==============================] - 1s 110ms/step - loss: 0.9725 - accuracy: 0.8253 - val_loss: 0.9149 - val_accuracy: 0.8238\n",
            "Epoch 10/10\n",
            "8/8 [==============================] - 1s 98ms/step - loss: 0.8179 - accuracy: 0.8321 - val_loss: 0.7902 - val_accuracy: 0.8257\n",
            "Test loss: 0.8360638618469238 / Test accuracy: 0.819100022315979\n"
          ]
        },
        {
          "output_type": "stream",
          "name": "stderr",
          "text": [
            "WARNING:absl:Found untraced functions such as _jit_compiled_convolution_op while saving (showing 1 of 1). These functions will not be directly callable after loading.\n"
          ]
        }
      ]
    },
    {
      "cell_type": "markdown",
      "source": [
        "###Running using CPU"
      ],
      "metadata": {
        "id": "DTK0lyutK6KM"
      }
    },
    {
      "cell_type": "code",
      "source": [
        "# Fit data to model\n",
        "history=model32.fit(input_train, y_train,\n",
        "          batch_size=batch_size,\n",
        "          epochs=no_epochs,\n",
        "          verbose=verbosity,\n",
        "          validation_split=validation_split)\n",
        "\n",
        "# Generate generalization metrics\n",
        "score = model32.evaluate(input_test, y_test, verbose=0)\n",
        "print(f'Test loss: {score[0]} / Test accuracy: {score[1]}')\n",
        "\n",
        "# # Save the model\n",
        "filepath = './saved_model'\n",
        "save_model(model32, filepath)\n",
        "\n",
        "# Load the model\n",
        "model32 = load_model(filepath, compile = True)"
      ],
      "metadata": {
        "colab": {
          "base_uri": "https://localhost:8080/"
        },
        "id": "T9KQVKgZK0Lj",
        "outputId": "f6bfb811-c179-43bd-e81f-00d332ffabdb"
      },
      "execution_count": null,
      "outputs": [
        {
          "output_type": "stream",
          "name": "stdout",
          "text": [
            "Epoch 1/10\n",
            "8/8 [==============================] - 51s 6s/step - loss: 95.9911 - accuracy: 0.2595 - val_loss: 40.1128 - val_accuracy: 0.4747\n",
            "Epoch 2/10\n",
            "8/8 [==============================] - 47s 6s/step - loss: 18.8462 - accuracy: 0.5625 - val_loss: 4.6102 - val_accuracy: 0.6729\n",
            "Epoch 3/10\n",
            "8/8 [==============================] - 46s 6s/step - loss: 5.1591 - accuracy: 0.6681 - val_loss: 4.4253 - val_accuracy: 0.6629\n",
            "Epoch 4/10\n",
            "8/8 [==============================] - 46s 6s/step - loss: 3.1951 - accuracy: 0.6939 - val_loss: 2.1936 - val_accuracy: 0.7157\n",
            "Epoch 5/10\n",
            "8/8 [==============================] - 50s 6s/step - loss: 1.8990 - accuracy: 0.7301 - val_loss: 1.3795 - val_accuracy: 0.7602\n",
            "Epoch 6/10\n",
            "8/8 [==============================] - 45s 6s/step - loss: 1.2699 - accuracy: 0.7591 - val_loss: 1.0008 - val_accuracy: 0.7810\n",
            "Epoch 7/10\n",
            "8/8 [==============================] - 46s 6s/step - loss: 0.9428 - accuracy: 0.7884 - val_loss: 0.7926 - val_accuracy: 0.7976\n",
            "Epoch 8/10\n",
            "8/8 [==============================] - 45s 6s/step - loss: 0.7529 - accuracy: 0.7992 - val_loss: 0.6770 - val_accuracy: 0.8032\n",
            "Epoch 9/10\n",
            "8/8 [==============================] - 59s 8s/step - loss: 0.6400 - accuracy: 0.8159 - val_loss: 0.6116 - val_accuracy: 0.8177\n",
            "Epoch 10/10\n",
            "8/8 [==============================] - 49s 6s/step - loss: 0.5623 - accuracy: 0.8290 - val_loss: 0.5509 - val_accuracy: 0.8285\n",
            "Test loss: 0.5969725251197815 / Test accuracy: 0.8210999965667725\n"
          ]
        },
        {
          "output_type": "stream",
          "name": "stderr",
          "text": [
            "WARNING:absl:Found untraced functions such as _jit_compiled_convolution_op while saving (showing 1 of 1). These functions will not be directly callable after loading.\n"
          ]
        }
      ]
    },
    {
      "cell_type": "code",
      "source": [
        "print(\"\\n\")\n",
        "print(history32.history.keys())\n",
        "\n",
        "# summarize history for accuracy\n",
        "plt.plot(history32.history['accuracy'])\n",
        "plt.plot(history32.history['val_accuracy'])\n",
        "plt.title('model accuracy')\n",
        "plt.ylabel('accuracy')\n",
        "plt.xlabel('epoch')\n",
        "plt.legend(['train', 'test'], loc='upper left')\n",
        "plt.show()\n",
        "\n",
        "# summarize history for loss\n",
        "plt.plot(history32.history['loss'])\n",
        "plt.plot(history32.history['val_loss'])\n",
        "plt.title('model loss')\n",
        "plt.ylabel('loss')\n",
        "plt.xlabel('epoch')\n",
        "plt.legend(['train', 'test'], loc='upper left')\n",
        "plt.show()"
      ],
      "metadata": {
        "colab": {
          "base_uri": "https://localhost:8080/",
          "height": 625
        },
        "id": "JmhfQ-QCXxiv",
        "outputId": "65d5d3a5-cca6-4ea5-89e0-828f05985755"
      },
      "execution_count": null,
      "outputs": [
        {
          "output_type": "stream",
          "name": "stdout",
          "text": [
            "\n",
            "\n",
            "dict_keys(['loss', 'accuracy', 'val_loss', 'val_accuracy'])\n"
          ]
        },
        {
          "output_type": "display_data",
          "data": {
            "text/plain": [
              "<Figure size 432x288 with 1 Axes>"
            ],
            "image/png": "[encoded data removed]"
          },
          "metadata": {
            "needs_background": "light"
          }
        },
        {
          "output_type": "display_data",
          "data": {
            "text/plain": [
              "<Figure size 432x288 with 1 Axes>"
            ],
            "image/png": "[encoded data removed]"
          },
          "metadata": {
            "needs_background": "light"
          }
        }
      ]
    },
    {
      "cell_type": "markdown",
      "source": [
        "GPU worked impressively faster with slight higher accuracy\n",
        "\n",
        "العلام حلو برضه😂"
      ],
      "metadata": {
        "id": "NzxhqaFfYdxu"
      }
    },
    {
      "cell_type": "markdown",
      "source": [
        "##Fitting Model with 64 Filters"
      ],
      "metadata": {
        "id": "1X1tS0Jn5dcR"
      }
    },
    {
      "cell_type": "code",
      "source": [
        "# Fit data to model\n",
        "history=model64.fit(input_train, y_train,\n",
        "          batch_size=batch_size,\n",
        "          epochs=no_epochs,\n",
        "          verbose=verbosity,\n",
        "          validation_split=validation_split)\n",
        "\n",
        "# Generate generalization metrics\n",
        "score = model64.evaluate(input_test, y_test, verbose=0)\n",
        "print(f'Test loss: {score[0]} / Test accuracy: {score[1]}')\n",
        "\n",
        "# # Save the model\n",
        "filepath = './saved_model'\n",
        "save_model(model64, filepath)\n",
        "\n",
        "# Load the model\n",
        "model64 = load_model(filepath, compile = True)\n"
      ],
      "metadata": {
        "colab": {
          "base_uri": "https://localhost:8080/"
        },
        "id": "lLyXwo3K43HX",
        "outputId": "aaf73584-f4be-42ea-c7fe-1879f59367e4"
      },
      "execution_count": null,
      "outputs": [
        {
          "output_type": "stream",
          "name": "stdout",
          "text": [
            "Epoch 1/10\n",
            "8/8 [==============================] - 49s 6s/step - loss: 90.3871 - accuracy: 0.3330 - val_loss: 44.3669 - val_accuracy: 0.5255\n",
            "Epoch 2/10\n",
            "8/8 [==============================] - 48s 6s/step - loss: 22.5590 - accuracy: 0.5799 - val_loss: 6.4887 - val_accuracy: 0.6267\n",
            "Epoch 3/10\n",
            "8/8 [==============================] - 51s 6s/step - loss: 5.3110 - accuracy: 0.6440 - val_loss: 3.3118 - val_accuracy: 0.6718\n",
            "Epoch 4/10\n",
            "8/8 [==============================] - 53s 7s/step - loss: 2.5326 - accuracy: 0.6992 - val_loss: 1.7653 - val_accuracy: 0.7433\n",
            "Epoch 5/10\n",
            "8/8 [==============================] - 50s 6s/step - loss: 1.5963 - accuracy: 0.7470 - val_loss: 1.3281 - val_accuracy: 0.7536\n",
            "Epoch 6/10\n",
            "8/8 [==============================] - 49s 6s/step - loss: 1.1637 - accuracy: 0.7653 - val_loss: 0.9380 - val_accuracy: 0.7780\n",
            "Epoch 7/10\n",
            "8/8 [==============================] - 51s 7s/step - loss: 0.8689 - accuracy: 0.7864 - val_loss: 0.7583 - val_accuracy: 0.7963\n",
            "Epoch 8/10\n",
            "8/8 [==============================] - 46s 6s/step - loss: 0.7273 - accuracy: 0.8029 - val_loss: 0.6702 - val_accuracy: 0.8042\n",
            "Epoch 9/10\n",
            "8/8 [==============================] - 49s 6s/step - loss: 0.6378 - accuracy: 0.8144 - val_loss: 0.6035 - val_accuracy: 0.8177\n",
            "Epoch 10/10\n",
            "8/8 [==============================] - 47s 6s/step - loss: 0.5721 - accuracy: 0.8251 - val_loss: 0.5483 - val_accuracy: 0.8289\n",
            "Test loss: 0.5882585644721985 / Test accuracy: 0.8190000057220459\n"
          ]
        },
        {
          "output_type": "stream",
          "name": "stderr",
          "text": [
            "WARNING:absl:Found untraced functions such as _jit_compiled_convolution_op while saving (showing 1 of 1). These functions will not be directly callable after loading.\n"
          ]
        }
      ]
    },
    {
      "cell_type": "code",
      "source": [
        "print(\"\\n\")\n",
        "print(history.history.keys())\n",
        "\n",
        "# summarize history for accuracy\n",
        "plt.plot(history.history['accuracy'])\n",
        "plt.plot(history.history['val_accuracy'])\n",
        "plt.title('model accuracy')\n",
        "plt.ylabel('accuracy')\n",
        "plt.xlabel('epoch')\n",
        "plt.legend(['train', 'test'], loc='upper left')\n",
        "plt.show()\n",
        "\n",
        "# summarize history for loss\n",
        "plt.plot(history.history['loss'])\n",
        "plt.plot(history.history['val_loss'])\n",
        "plt.title('model loss')\n",
        "plt.ylabel('loss')\n",
        "plt.xlabel('epoch')\n",
        "plt.legend(['train', 'test'], loc='upper left')\n",
        "plt.show()"
      ],
      "metadata": {
        "colab": {
          "base_uri": "https://localhost:8080/",
          "height": 625
        },
        "id": "9xw7TcdGGM4j",
        "outputId": "a55a4dce-8e9d-4bbf-b8bd-41ebe5fabdb9"
      },
      "execution_count": null,
      "outputs": [
        {
          "output_type": "stream",
          "name": "stdout",
          "text": [
            "\n",
            "\n",
            "dict_keys(['loss', 'accuracy', 'val_loss', 'val_accuracy'])\n"
          ]
        },
        {
          "output_type": "display_data",
          "data": {
            "text/plain": [
              "<Figure size 432x288 with 1 Axes>"
            ],
            "image/png": "[encoded data removed]"
          },
          "metadata": {
            "needs_background": "light"
          }
        },
        {
          "output_type": "display_data",
          "data": {
            "text/plain": [
              "<Figure size 432x288 with 1 Axes>"
            ],
            "image/png": "[encoded data removed]"
          },
          "metadata": {
            "needs_background": "light"
          }
        }
      ]
    },
    {
      "cell_type": "markdown",
      "source": [
        "##Fitting Model with 128 filters"
      ],
      "metadata": {
        "id": "ivqjXgbh5iTt"
      }
    },
    {
      "cell_type": "code",
      "source": [
        "# Fit data to model\n",
        "history1=model128.fit(input_train, y_train,\n",
        "          batch_size=batch_size,\n",
        "          epochs=no_epochs,\n",
        "          verbose=verbosity,\n",
        "          validation_split=validation_split)\n",
        "\n",
        "# Generate generalization metrics\n",
        "score = model128.evaluate(input_test, y_test, verbose=0)\n",
        "print(f'Test loss: {score[0]} / Test accuracy: {score[1]}')\n",
        "\n",
        "# # Save the model\n",
        "filepath = './saved_model'\n",
        "save_model(model128, filepath)\n",
        "\n",
        "# Load the model\n",
        "model128 = load_model(filepath, compile = True)"
      ],
      "metadata": {
        "colab": {
          "base_uri": "https://localhost:8080/"
        },
        "id": "omtFB2iN5mLq",
        "outputId": "7f18970d-0124-4162-8d88-240efaa0a6b1"
      },
      "execution_count": null,
      "outputs": [
        {
          "output_type": "stream",
          "name": "stdout",
          "text": [
            "Epoch 1/10\n",
            "8/8 [==============================] - 2s 210ms/step - loss: 1.1587 - accuracy: 0.7018 - val_loss: 0.7842 - val_accuracy: 0.7319\n",
            "Epoch 2/10\n",
            "8/8 [==============================] - 1s 177ms/step - loss: 0.6743 - accuracy: 0.7535 - val_loss: 0.6138 - val_accuracy: 0.7722\n",
            "Epoch 3/10\n",
            "8/8 [==============================] - 1s 175ms/step - loss: 0.5422 - accuracy: 0.8084 - val_loss: 0.5257 - val_accuracy: 0.8232\n",
            "Epoch 4/10\n",
            "8/8 [==============================] - 1s 176ms/step - loss: 0.4635 - accuracy: 0.8327 - val_loss: 0.4705 - val_accuracy: 0.8317\n",
            "Epoch 5/10\n",
            "8/8 [==============================] - 1s 170ms/step - loss: 0.4086 - accuracy: 0.8428 - val_loss: 0.4402 - val_accuracy: 0.8470\n",
            "Epoch 6/10\n",
            "8/8 [==============================] - 1s 176ms/step - loss: 0.3665 - accuracy: 0.8760 - val_loss: 0.4113 - val_accuracy: 0.8652\n",
            "Epoch 7/10\n",
            "8/8 [==============================] - 1s 176ms/step - loss: 0.3254 - accuracy: 0.8895 - val_loss: 0.3810 - val_accuracy: 0.8727\n",
            "Epoch 8/10\n",
            "8/8 [==============================] - 1s 179ms/step - loss: 0.2761 - accuracy: 0.9018 - val_loss: 0.3481 - val_accuracy: 0.8845\n",
            "Epoch 9/10\n",
            "8/8 [==============================] - 1s 181ms/step - loss: 0.2372 - accuracy: 0.9149 - val_loss: 0.3242 - val_accuracy: 0.8919\n",
            "Epoch 10/10\n",
            "8/8 [==============================] - 1s 176ms/step - loss: 0.2069 - accuracy: 0.9238 - val_loss: 0.3077 - val_accuracy: 0.8954\n",
            "Test loss: 0.3262263834476471 / Test accuracy: 0.8906000256538391\n"
          ]
        },
        {
          "output_type": "stream",
          "name": "stderr",
          "text": [
            "WARNING:absl:Found untraced functions such as _jit_compiled_convolution_op while saving (showing 1 of 1). These functions will not be directly callable after loading.\n"
          ]
        }
      ]
    },
    {
      "cell_type": "code",
      "source": [
        "print(\"\\n\")\n",
        "print(history1.history.keys())\n",
        "\n",
        "# summarize history for accuracy\n",
        "plt.plot(history1.history['accuracy'])\n",
        "plt.plot(history1.history['val_accuracy'])\n",
        "plt.title('model accuracy')\n",
        "plt.ylabel('accuracy')\n",
        "plt.xlabel('epoch')\n",
        "plt.legend(['train', 'test'], loc='upper left')\n",
        "plt.show()\n",
        "\n",
        "# summarize history for loss\n",
        "plt.plot(history1.history['loss'])\n",
        "plt.plot(history1.history['val_loss'])\n",
        "plt.title('model loss')\n",
        "plt.ylabel('loss')\n",
        "plt.xlabel('epoch')\n",
        "plt.legend(['train', 'test'], loc='upper left')\n",
        "plt.show()"
      ],
      "metadata": {
        "colab": {
          "base_uri": "https://localhost:8080/",
          "height": 625
        },
        "id": "fUv8ry8CGzRX",
        "outputId": "65c3236a-ff85-4896-e9b6-83387d34758d"
      },
      "execution_count": null,
      "outputs": [
        {
          "output_type": "stream",
          "name": "stdout",
          "text": [
            "\n",
            "\n",
            "dict_keys(['loss', 'accuracy', 'val_loss', 'val_accuracy'])\n"
          ]
        },
        {
          "output_type": "display_data",
          "data": {
            "text/plain": [
              "<Figure size 432x288 with 1 Axes>"
            ],
            "image/png": "[encoded data removed]"
          },
          "metadata": {
            "needs_background": "light"
          }
        },
        {
          "output_type": "display_data",
          "data": {
            "text/plain": [
              "<Figure size 432x288 with 1 Axes>"
            ],
            "image/png": "[encoded data removed]"
          },
          "metadata": {
            "needs_background": "light"
          }
        }
      ]
    },
    {
      "cell_type": "markdown",
      "source": [
        "##Fitting Model with 265 filters"
      ],
      "metadata": {
        "id": "azNHN_E65m4J"
      }
    },
    {
      "cell_type": "code",
      "source": [
        "# Fit data to model\n",
        "history2=model265.fit(input_train, y_train,\n",
        "          batch_size=batch_size,\n",
        "          epochs=no_epochs,\n",
        "          verbose=verbosity,\n",
        "          validation_split=validation_split)\n",
        "# Generate generalization metrics\n",
        "score = model265.evaluate(input_test, y_test, verbose=0)\n",
        "print(f'Test loss: {score[0]} / Test accuracy: {score[1]}')\n",
        "\n",
        "# # Save the model\n",
        "filepath = './saved_model'\n",
        "save_model(model265, filepath)\n",
        "\n",
        "# Load the model\n",
        "model265 = load_model(filepath, compile = True)"
      ],
      "metadata": {
        "colab": {
          "base_uri": "https://localhost:8080/"
        },
        "id": "g2AOHfRp5syx",
        "outputId": "dfd4e585-28b7-4ed9-f192-f8998f03b426"
      },
      "execution_count": null,
      "outputs": [
        {
          "output_type": "stream",
          "name": "stdout",
          "text": [
            "Epoch 1/10\n"
          ]
        }
      ]
    },
    {
      "cell_type": "code",
      "source": [
        "print(\"\\n\")\n",
        "print(history2.history.keys())\n",
        "\n",
        "# summarize history for accuracy\n",
        "plt.plot(history2.history['accuracy'])\n",
        "plt.plot(history2.history['val_accuracy'])\n",
        "plt.title('model accuracy')\n",
        "plt.ylabel('accuracy')\n",
        "plt.xlabel('epoch')\n",
        "plt.legend(['train', 'test'], loc='upper left')\n",
        "plt.show()\n",
        "\n",
        "# summarize history for loss\n",
        "plt.plot(history2.history['loss'])\n",
        "plt.plot(history2.history['val_loss'])\n",
        "plt.title('model loss')\n",
        "plt.ylabel('loss')\n",
        "plt.xlabel('epoch')\n",
        "plt.legend(['train', 'test'], loc='upper left')\n",
        "plt.show()"
      ],
      "metadata": {
        "id": "PWsfnDGHG8mW"
      },
      "execution_count": null,
      "outputs": []
    },
    {
      "cell_type": "markdown",
      "source": [
        "#Bonus Task"
      ],
      "metadata": {
        "id": "X--Cx8-ra-6I"
      }
    },
    {
      "cell_type": "markdown",
      "source": [
        "##Pre-Processing"
      ],
      "metadata": {
        "id": "HHbtnoAGd4sL"
      }
    },
    {
      "cell_type": "code",
      "source": [
        "(X_train1, y_train1), (X_test1, y_test1) = cifar10.load_data()\n",
        "\n",
        "img_width, img_height = 32, 32\n",
        "no_classes = 10\n",
        "\n",
        "input_train1 = X_train1.reshape(X_train1.shape[0], img_width, img_height, 3)\n",
        "\n",
        "input_test1 = X_test1.reshape(X_test1.shape[0], img_width, img_height, 3)\n",
        "input_shape1 = (img_width, img_height, 3)\n",
        "\n",
        "# Cast numbers to float32\n",
        "input_train1 = input_train1.astype('float32')\n",
        "input_test1 = input_test1.astype('float32')\n",
        "\n",
        "print(input_train1.shape[0],input_train1.shape,input_test1.shape)"
      ],
      "metadata": {
        "colab": {
          "base_uri": "https://localhost:8080/"
        },
        "id": "JkiL3EjrbFYU",
        "outputId": "2a96db4a-585b-4872-9e31-fab9efa1b148"
      },
      "execution_count": null,
      "outputs": [
        {
          "output_type": "stream",
          "name": "stdout",
          "text": [
            "50000 (50000, 32, 32, 3) (10000, 32, 32, 3)\n"
          ]
        }
      ]
    },
    {
      "cell_type": "code",
      "source": [
        "target_train_cat = to_categorical(y_train1)\n",
        "target_test_cat = to_categorical(y_test1)"
      ],
      "metadata": {
        "id": "dHy9o6FzdEFn"
      },
      "execution_count": null,
      "outputs": []
    },
    {
      "cell_type": "markdown",
      "source": [
        "##Readjusting the input shape of the model"
      ],
      "metadata": {
        "id": "jjBCo0Vhf5RY"
      }
    },
    {
      "cell_type": "code",
      "source": [
        "model128_3D=Sequential()\n",
        "\n",
        "model128_3D.add(Conv2D(128, kernel_size=(3, 3), activation='relu', input_shape=(32, 32, 3),strides=(1, 1),padding=\"valid\"))\n",
        "model128_3D.add(MaxPooling2D())\n",
        "model128_3D.add(Flatten())\n",
        "model128_3D.add(Dense(128, activation='relu'))\n",
        "model128_3D.add(Dense(10, activation='softmax'))\n",
        "\n",
        "model128_3D.summary()"
      ],
      "metadata": {
        "colab": {
          "base_uri": "https://localhost:8080/"
        },
        "id": "TEP7yt0xgB9Z",
        "outputId": "edb36fb4-993e-46a0-e59b-92d88e001832"
      },
      "execution_count": null,
      "outputs": [
        {
          "output_type": "stream",
          "name": "stdout",
          "text": [
            "Model: \"sequential_7\"\n",
            "_________________________________________________________________\n",
            " Layer (type)                Output Shape              Param #   \n",
            "=================================================================\n",
            " conv2d_7 (Conv2D)           (None, 30, 30, 128)       3584      \n",
            "                                                                 \n",
            " max_pooling2d_6 (MaxPooling  (None, 15, 15, 128)      0         \n",
            " 2D)                                                             \n",
            "                                                                 \n",
            " flatten_6 (Flatten)         (None, 28800)             0         \n",
            "                                                                 \n",
            " dense_12 (Dense)            (None, 128)               3686528   \n",
            "                                                                 \n",
            " dense_13 (Dense)            (None, 10)                1290      \n",
            "                                                                 \n",
            "=================================================================\n",
            "Total params: 3,691,402\n",
            "Trainable params: 3,691,402\n",
            "Non-trainable params: 0\n",
            "_________________________________________________________________\n"
          ]
        }
      ]
    },
    {
      "cell_type": "code",
      "source": [
        "#optimizer\n",
        "model128_3D.compile(loss=sparse_categorical_crossentropy,\n",
        "              optimizer=Adam(),\n",
        "              metrics=['accuracy'])"
      ],
      "metadata": {
        "id": "ybEMLXA-gYn1"
      },
      "execution_count": null,
      "outputs": []
    },
    {
      "cell_type": "markdown",
      "source": [
        "##Fitting Data to 128 filter Model"
      ],
      "metadata": {
        "id": "TSWMLAPtd7JM"
      }
    },
    {
      "cell_type": "code",
      "source": [
        "# Fit data to model\n",
        "history_cifar=model128_3D.fit(input_train1, y_train1,\n",
        "          batch_size=8000,\n",
        "          epochs=15,\n",
        "          verbose=verbosity,\n",
        "          validation_split=validation_split)\n",
        "\n",
        "# Generate generalization metrics\n",
        "score = model128_3D.evaluate(input_test1, y_test1, verbose=0)\n",
        "print(f'Test loss: {score[0]} / Test accuracy: {score[1]}')\n",
        "\n",
        "# # Save the model\n",
        "filepath = './saved_model'\n",
        "save_model(model128_3D, filepath)\n",
        "\n",
        "# Load the model\n",
        "model128_cifar = load_model(filepath, compile = True)"
      ],
      "metadata": {
        "colab": {
          "base_uri": "https://localhost:8080/"
        },
        "id": "OrVziKWKdZAx",
        "outputId": "17da299f-170b-4622-ed79-89d3d2cc1808"
      },
      "execution_count": null,
      "outputs": [
        {
          "output_type": "stream",
          "name": "stdout",
          "text": [
            "Epoch 1/15\n",
            "5/5 [==============================] - 3s 480ms/step - loss: 1.4081 - accuracy: 0.5081 - val_loss: 1.5423 - val_accuracy: 0.4691\n",
            "Epoch 2/15\n",
            "5/5 [==============================] - 2s 389ms/step - loss: 1.3122 - accuracy: 0.5404 - val_loss: 1.4844 - val_accuracy: 0.4911\n",
            "Epoch 3/15\n",
            "5/5 [==============================] - 2s 378ms/step - loss: 1.2257 - accuracy: 0.5711 - val_loss: 1.4542 - val_accuracy: 0.5027\n",
            "Epoch 4/15\n",
            "5/5 [==============================] - 2s 347ms/step - loss: 1.1479 - accuracy: 0.5981 - val_loss: 1.4401 - val_accuracy: 0.5130\n",
            "Epoch 5/15\n",
            "5/5 [==============================] - 2s 371ms/step - loss: 1.0895 - accuracy: 0.6221 - val_loss: 1.4342 - val_accuracy: 0.5131\n",
            "Epoch 6/15\n",
            "5/5 [==============================] - 2s 342ms/step - loss: 1.0274 - accuracy: 0.6463 - val_loss: 1.4196 - val_accuracy: 0.5201\n",
            "Epoch 7/15\n",
            "5/5 [==============================] - 2s 346ms/step - loss: 0.9601 - accuracy: 0.6720 - val_loss: 1.4234 - val_accuracy: 0.5231\n",
            "Epoch 8/15\n",
            "5/5 [==============================] - 2s 345ms/step - loss: 0.9075 - accuracy: 0.6919 - val_loss: 1.4258 - val_accuracy: 0.5210\n",
            "Epoch 9/15\n",
            "5/5 [==============================] - 2s 380ms/step - loss: 0.8466 - accuracy: 0.7154 - val_loss: 1.4335 - val_accuracy: 0.5269\n",
            "Epoch 10/15\n",
            "5/5 [==============================] - 2s 401ms/step - loss: 0.8273 - accuracy: 0.7222 - val_loss: 1.4466 - val_accuracy: 0.5250\n",
            "Epoch 11/15\n",
            "5/5 [==============================] - 2s 345ms/step - loss: 0.7598 - accuracy: 0.7502 - val_loss: 1.4720 - val_accuracy: 0.5277\n",
            "Epoch 12/15\n",
            "5/5 [==============================] - 2s 349ms/step - loss: 0.7099 - accuracy: 0.7678 - val_loss: 1.4634 - val_accuracy: 0.5299\n",
            "Epoch 13/15\n",
            "5/5 [==============================] - 2s 349ms/step - loss: 0.6639 - accuracy: 0.7883 - val_loss: 1.4916 - val_accuracy: 0.5275\n",
            "Epoch 14/15\n",
            "5/5 [==============================] - 2s 349ms/step - loss: 0.6320 - accuracy: 0.8004 - val_loss: 1.4990 - val_accuracy: 0.5293\n",
            "Epoch 15/15\n",
            "5/5 [==============================] - 2s 378ms/step - loss: 0.5852 - accuracy: 0.8182 - val_loss: 1.5105 - val_accuracy: 0.5308\n",
            "Test loss: 1.515177607536316 / Test accuracy: 0.5275999903678894\n"
          ]
        },
        {
          "output_type": "stream",
          "name": "stderr",
          "text": [
            "WARNING:absl:Found untraced functions such as _jit_compiled_convolution_op while saving (showing 1 of 1). These functions will not be directly callable after loading.\n"
          ]
        }
      ]
    },
    {
      "cell_type": "code",
      "source": [
        "print(\"\\n\")\n",
        "print(history_cifar.history.keys())\n",
        "\n",
        "# summarize history for accuracy\n",
        "plt.plot(history_cifar.history['accuracy'])\n",
        "plt.plot(history_cifar.history['val_accuracy'])\n",
        "plt.title('model accuracy')\n",
        "plt.ylabel('accuracy')\n",
        "plt.xlabel('epoch')\n",
        "plt.legend(['train', 'test'], loc='upper left')\n",
        "plt.show()\n",
        "\n",
        "# summarize history for loss\n",
        "plt.plot(history_cifar.history['loss'])\n",
        "plt.plot(history_cifar.history['val_loss'])\n",
        "plt.title('model loss')\n",
        "plt.ylabel('loss')\n",
        "plt.xlabel('epoch')\n",
        "plt.legend(['train', 'test'], loc='upper left')\n",
        "plt.show()"
      ],
      "metadata": {
        "colab": {
          "base_uri": "https://localhost:8080/",
          "height": 625
        },
        "id": "92yEDstJhJmS",
        "outputId": "52c0df10-f494-422e-bb64-5b8ee17474e3"
      },
      "execution_count": null,
      "outputs": [
        {
          "output_type": "stream",
          "name": "stdout",
          "text": [
            "\n",
            "\n",
            "dict_keys(['loss', 'accuracy', 'val_loss', 'val_accuracy'])\n"
          ]
        },
        {
          "output_type": "display_data",
          "data": {
            "text/plain": [
              "<Figure size 432x288 with 1 Axes>"
            ],
            "image/png": "[encoded data removed]"
          },
          "metadata": {
            "needs_background": "light"
          }
        },
        {
          "output_type": "display_data",
          "data": {
            "text/plain": [
              "<Figure size 432x288 with 1 Axes>"
            ],
            "image/png": "[encoded data removed]"
          },
          "metadata": {
            "needs_background": "light"
          }
        }
      ]
    },
    {
      "cell_type": "markdown",
      "source": [
        "##**Difference Between 3D and 2D Models**\n",
        "2D models take only 2D inputs such as images while 3D models take 3D inputs such as videos. 2D models typically have one or two channels while 3D models have multiple channels. 2D models are best suited for image classification tasks while 3D models are best suited for video classification tasks. 2D models typically have fewer layers and fewer hyperparameters such as learning rate and regularization, while 3D models have more layers and more hyperparameters such as dropout and kernel size\n",
        "\n",
        "Hence the same model (128-filters) has shown a high accuracy of 89% on 2D dataset but lower accuracy 58% on 3D dataset"
      ],
      "metadata": {
        "id": "ECfGbJpxh56A"
      }
    }
  ]
}